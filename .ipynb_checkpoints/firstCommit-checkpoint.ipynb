{
 "cells": [
  {
   "cell_type": "code",
   "execution_count": 1,
   "id": "1498967f-4952-4cf8-aa9e-8f04ff0a67c1",
   "metadata": {},
   "outputs": [
    {
     "name": "stdout",
     "output_type": "stream",
     "text": [
      "first commit\n"
     ]
    }
   ],
   "source": [
    "print ('first commit')"
   ]
  },
  {
   "cell_type": "code",
   "execution_count": null,
   "id": "7af7321e-9359-471a-b525-c3226d864e8b",
   "metadata": {},
   "outputs": [],
   "source": []
  }
 ],
 "metadata": {
  "kernelspec": {
   "display_name": "Python 3 (ipykernel)",
   "language": "python",
   "name": "python3"
  },
  "language_info": {
   "codemirror_mode": {
    "name": "ipython",
    "version": 3
   },
   "file_extension": ".py",
   "mimetype": "text/x-python",
   "name": "python",
   "nbconvert_exporter": "python",
   "pygments_lexer": "ipython3",
   "version": "3.11.7"
  }
 },
 "nbformat": 4,
 "nbformat_minor": 5
}
